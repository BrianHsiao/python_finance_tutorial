{
 "metadata": {
  "language_info": {
   "codemirror_mode": {
    "name": "ipython",
    "version": 3
   },
   "file_extension": ".py",
   "mimetype": "text/x-python",
   "name": "python",
   "nbconvert_exporter": "python",
   "pygments_lexer": "ipython3",
   "version": "3.7.3-final"
  },
  "orig_nbformat": 2,
  "kernelspec": {
   "name": "python_defaultSpec_1598093947723",
   "display_name": "Python 3.7.3 64-bit"
  }
 },
 "nbformat": 4,
 "nbformat_minor": 2,
 "cells": [
  {
   "cell_type": "code",
   "execution_count": 6,
   "metadata": {},
   "outputs": [],
   "source": [
    "import TWCB \n",
    "import json\n",
    "import pandas as pd"
   ]
  },
  {
   "cell_type": "code",
   "execution_count": 2,
   "metadata": {},
   "outputs": [],
   "source": [
    "info = TWCB.get_info()"
   ]
  },
  {
   "cell_type": "code",
   "execution_count": 4,
   "metadata": {
    "tags": []
   },
   "outputs": [
    {
     "output_type": "stream",
     "name": "stdout",
     "text": "Start to process the BP01D01.px\nStart to process the BP01M01.px\nStart to process the BP01Y01.px\nStart to process the EF01Y01.px\nStart to process the EF01M01.px\nStart to process the EF03Y01.px\nStart to process the EF03M01.px\nStart to process the EFA4Y01.px\nStart to process the EFA4M01.px\nStart to process the EF05Y01.px\nStart to process the EF05M01.px\nStart to process the EF07Y01.px\nStart to process the EF07M01.px\nStart to process the EF10M01.px\nStart to process the EF11Y01.px\nStart to process the EF11M01.px\nStart to process the EF12Y01.px\nStart to process the EF12M01.px\nStart to process the EF13Y01.px\nStart to process the EF13M01.px\nStart to process the EF15Y01.px\nStart to process the EF15M01.px\nStart to process the EF17Y01.px\nStart to process the EF17M01.px\nStart to process the EF19Y01.px\nStart to process the EF19M01.px\nStart to process the EF21Y01.px\nStart to process the EF21M01.px\nStart to process the EF71D01.px\nStart to process the EF72Y01.px\nStart to process the EF72M01.px\nStart to process the EF73Y01.px\nStart to process the EF73M01.px\nStart to process the EFA1Y01.px\nStart to process the EFA1M01.px\nStart to process the EF39Y01.px\nStart to process the EF39M01.px\nStart to process the EF41Y01.px\nStart to process the EF41M01.px\nStart to process the EF35Y01.px\nStart to process the EF35M01.px\nStart to process the EF37Y01.px\nStart to process the EF37M01.px\nStart to process the EF23Y01.px\nStart to process the EF23M01.px\nStart to process the EF25Y01.px\nStart to process the EF25M01.px\nStart to process the EF27Y01.px\nStart to process the EF27M01.px\nStart to process the EF29Y01.px\nStart to process the EF29M01.px\nStart to process the EF43Y01.px\nStart to process the EF43M01.px\nStart to process the EF45Y01.px\nStart to process the EF45M01.px\nStart to process the EF47Y01.px\nStart to process the EF47M01.px\nStart to process the EF49Y01.px\nStart to process the EF49M01.px\nStart to process the EF55Y01.px\nStart to process the EF55M01.px\nStart to process the EF57Y01.px\nStart to process the EF57M01.px\nStart to process the EF59Y01.px\nStart to process the EF59M01.px\nStart to process the EF61Y01.px\nStart to process the EF61M01.px\nStart to process the EF63Y01.px\nStart to process the EF63M01.px\nStart to process the EF64Y01.px\nStart to process the EF64M01.px\nStart to process the EG65Y01.px\nStart to process the EG65M01.px\nStart to process the EF65Y01.px\nStart to process the EF65M01.px\nStart to process the EF67Y01.px\nStart to process the EF67M01.px\nStart to process the EG05Y01.px\nStart to process the EG05M01.px\nStart to process the EG03Y01.px\nStart to process the EG03M01.px\nStart to process the EG07Y01.px\nStart to process the EG07M01.px\nStart to process the EGA9Y01.px\nStart to process the EGA9M01.px\nStart to process the EGA7M01.px\nStart to process the EGC7Q01.px\nStart to process the EI75Y01.px\nStart to process the EI75M01.px\nStart to process the EI77Y01.px\nStart to process the EI77M01.px\nStart to process the EI79Y01.px\nStart to process the EI79M01.px\nStart to process the EI80M01.px\nStart to process the EI81M01.px\nStart to process the EIA1M01.px\nStart to process the EI82M01.px\nStart to process the EI83M01.px\nStart to process the EI84M01.px\nStart to process the EI85Y01.px\nStart to process the EI85M01.px\nStart to process the EI86Y01.px\nStart to process the EI86M01.px\nStart to process the EI87Y01.px\nStart to process the EI87M01.px\nStart to process the EI97Y01.px\nStart to process the EI97M01.px\nStart to process the EI98Y01.px\nStart to process the EI98M01.px\nStart to process the E95GY01.px\nStart to process the E95GM01.px\nStart to process the EF99Y01.px\nStart to process the EF99M01.px\nStart to process the EG01Y01.px\nStart to process the EG01M01.px\nStart to process the EG11Y01.px\nStart to process the EG11M01.px\nStart to process the EG11D01.px\nStart to process the EG13Y01.px\nStart to process the EG13M01.px\nStart to process the EG13D01.px\nStart to process the EG15Y01.px\nStart to process the EG15M01.px\nStart to process the EG15D01.px\nStart to process the EG16Y01.px\nStart to process the EG16M01.px\nStart to process the EG16D01.px\nStart to process the EG17Y01.px\nStart to process the EG17M01.px\nStart to process the EG19Y01.px\nStart to process the EG19M01.px\nStart to process the EG21Y01.px\nStart to process the EG21M01.px\nStart to process the EG23Y01.px\nStart to process the EG23M01.px\nStart to process the EGA4Y01.px\nStart to process the EGA4M01.px\nStart to process the EGB4Y01.px\nStart to process the EGB4M01.px\nStart to process the EG25Y01.px\nStart to process the EG25M01.px\nStart to process the EG27Y01.px\nStart to process the EG27M01.px\nStart to process the EG2AY01.px\nStart to process the EG2AM01.px\nStart to process the EG28D01.px\nStart to process the EG2BY01.px\nStart to process the EG2BM01.px\nStart to process the EG2WM01.px\nStart to process the EG30D01.px\nStart to process the EG39Y01.px\nStart to process the EG39Q01.px\nStart to process the EH45Y01.px\nStart to process the EH45M01.px\nStart to process the EG37Y01.px\nStart to process the EG37M01.px\nStart to process the EG37D01.px\nStart to process the EG41Y01.px\nStart to process the EG41M01.px\nStart to process the EG43Y01.px\nStart to process the EG43M01.px\nStart to process the EG45M01.px\nStart to process the EG46Y01.px\nStart to process the EG46M01.px\nStart to process the EG47Y01.px\nStart to process the EG47M01.px\nStart to process the EG49Y01.px\nStart to process the EG49M01.px\nStart to process the EG4ZD01.px\nStart to process the EG51M01.px\nStart to process the EG51D01.px\nStart to process the EG52M01.px\nStart to process the EG55Y01.px\nStart to process the EG55M01.px\nStart to process the EG55D01.px\nStart to process the EF09Y01.px\nStart to process the EF09M01.px\nStart to process the EG60Y01.px\nStart to process the EG60M01.px\nStart to process the EG60D01.px\nStart to process the EF70Y01.px\nStart to process the EF70M01.px\nStart to process the EG77Y01.px\nStart to process the EG77M01.px\nStart to process the EF69Y01.px\nStart to process the EF69M01.px\nStart to process the EG02Y01.px\nStart to process the EG02M01.px\nStart to process the EG75Y01.px\nStart to process the EG75M01.px\nStart to process the EG73Y01.px\nStart to process the EG73M01.px\nStart to process the BPP2Y01.px\nStart to process the BPP2Q01.px\nStart to process the BPF4Y01.px\nStart to process the FL01_cn.px\nStart to process the FL02_cn.px\n"
    }
   ],
   "source": [
    "TWCB.get_all()"
   ]
  },
  {
   "cell_type": "code",
   "execution_count": 7,
   "metadata": {},
   "outputs": [],
   "source": [
    "with open('download_TWCB.json','r',encoding='utf-8') as f:\n",
    "    test_data = json.load(f)\n",
    "\n",
    "test_data = {key:pd.read_json(test_data[key]) for key in test_data.keys()} "
   ]
  },
  {
   "cell_type": "code",
   "execution_count": 9,
   "metadata": {},
   "outputs": [
    {
     "output_type": "execute_result",
     "data": {
      "text/plain": "          date  新台幣NTD/USD  日圓JPY/USD  英鎊USD/GBP  港幣HKD/USD  韓元KRW/USD  \\\n0     19930105      25.405     125.25     1.5499     7.7427      788.2   \n1     19930106      25.427     124.84     1.5423     7.7415      790.3   \n2     19930107      25.411     125.09     1.5309     7.7427      791.1   \n3     19930108      25.423     125.42     1.5314     7.7430      791.9   \n4     19930111      25.450     125.36     1.5516     7.7420      792.5   \n...        ...         ...        ...        ...        ...        ...   \n6859  20200727      29.507     105.56     1.2829     7.7516     1196.1   \n6860  20200728      29.502     105.62     1.2850     7.7505     1196.9   \n6861  20200729      29.501     104.82     1.2966     7.7502     1193.1   \n6862  20200730      29.521     105.07     1.2986     7.7501     1194.4   \n6863  20200731      29.502     104.44     1.3137     7.7502     1191.3   \n\n      加拿大幣CAD/USD  新加坡元SGD/USD  人民幣CNY/USD  澳幣USD/AUD  印尼盾IDR/USD  泰銖THB/USD  \\\n0          1.2766       1.6560      7.7200     0.6732      2048.0     25.550   \n1          1.2794       1.6530      7.7200     0.6687      2048.0     25.510   \n2          1.2800       1.6588      7.7450     0.6709      2049.0     25.540   \n3          1.2826       1.6620      7.7450     0.6727      2049.0     25.550   \n4          1.2780       1.6602      7.7150     0.6736      2050.0     25.540   \n...           ...          ...         ...        ...         ...        ...   \n6859       1.3385       1.3809      7.0010     0.7130     14530.0     31.590   \n6860       1.3386       1.3809      7.0072     0.7127     14535.0     31.565   \n6861       1.3347       1.3750      6.9997     0.7186     14535.0     31.450   \n6862       1.3395       1.3760      7.0064     0.7149     14600.0     31.400   \n6863       1.3407       1.3706      6.9794     0.7199     14600.0     31.205   \n\n      馬來西亞幣MYR/USD  菲律賓披索PHP/USD 歐元USD/EUR 馬克DEM/USD 法國法郎FRF/USD 荷蘭幣NLG/USD  \\\n0           2.5908             -         -    1.6255      5.5425     1.8258   \n1           2.5930             -         -    1.6350      5.5665     1.8360   \n2           2.5955             -         -    1.6380      5.5670     1.8415   \n3           2.5970             -         -    1.6475      5.6050     1.8515   \n4           2.5945             -         -    1.6340      5.5245     1.8375   \n...            ...           ...       ...       ...         ...        ...   \n6859        4.2525        49.200    1.1696         -           -          -   \n6860        4.2545        49.220    1.1711         -           -          -   \n6861        4.2460        49.090    1.1759         -           -          -   \n6862        4.2460        49.135    1.1758         -           -          -   \n6863        4.2395        49.060    1.1876         -           -          -   \n\n     越南盾VND/USD  \n0             -  \n1             -  \n2             -  \n3             -  \n4             -  \n...         ...  \n6859    23181.5  \n6860    23200.0  \n6861    23180.0  \n6862    23177.5  \n6863    23180.0  \n\n[6864 rows x 19 columns]",
      "text/html": "<div>\n<style scoped>\n    .dataframe tbody tr th:only-of-type {\n        vertical-align: middle;\n    }\n\n    .dataframe tbody tr th {\n        vertical-align: top;\n    }\n\n    .dataframe thead th {\n        text-align: right;\n    }\n</style>\n<table border=\"1\" class=\"dataframe\">\n  <thead>\n    <tr style=\"text-align: right;\">\n      <th></th>\n      <th>date</th>\n      <th>新台幣NTD/USD</th>\n      <th>日圓JPY/USD</th>\n      <th>英鎊USD/GBP</th>\n      <th>港幣HKD/USD</th>\n      <th>韓元KRW/USD</th>\n      <th>加拿大幣CAD/USD</th>\n      <th>新加坡元SGD/USD</th>\n      <th>人民幣CNY/USD</th>\n      <th>澳幣USD/AUD</th>\n      <th>印尼盾IDR/USD</th>\n      <th>泰銖THB/USD</th>\n      <th>馬來西亞幣MYR/USD</th>\n      <th>菲律賓披索PHP/USD</th>\n      <th>歐元USD/EUR</th>\n      <th>馬克DEM/USD</th>\n      <th>法國法郎FRF/USD</th>\n      <th>荷蘭幣NLG/USD</th>\n      <th>越南盾VND/USD</th>\n    </tr>\n  </thead>\n  <tbody>\n    <tr>\n      <th>0</th>\n      <td>19930105</td>\n      <td>25.405</td>\n      <td>125.25</td>\n      <td>1.5499</td>\n      <td>7.7427</td>\n      <td>788.2</td>\n      <td>1.2766</td>\n      <td>1.6560</td>\n      <td>7.7200</td>\n      <td>0.6732</td>\n      <td>2048.0</td>\n      <td>25.550</td>\n      <td>2.5908</td>\n      <td>-</td>\n      <td>-</td>\n      <td>1.6255</td>\n      <td>5.5425</td>\n      <td>1.8258</td>\n      <td>-</td>\n    </tr>\n    <tr>\n      <th>1</th>\n      <td>19930106</td>\n      <td>25.427</td>\n      <td>124.84</td>\n      <td>1.5423</td>\n      <td>7.7415</td>\n      <td>790.3</td>\n      <td>1.2794</td>\n      <td>1.6530</td>\n      <td>7.7200</td>\n      <td>0.6687</td>\n      <td>2048.0</td>\n      <td>25.510</td>\n      <td>2.5930</td>\n      <td>-</td>\n      <td>-</td>\n      <td>1.6350</td>\n      <td>5.5665</td>\n      <td>1.8360</td>\n      <td>-</td>\n    </tr>\n    <tr>\n      <th>2</th>\n      <td>19930107</td>\n      <td>25.411</td>\n      <td>125.09</td>\n      <td>1.5309</td>\n      <td>7.7427</td>\n      <td>791.1</td>\n      <td>1.2800</td>\n      <td>1.6588</td>\n      <td>7.7450</td>\n      <td>0.6709</td>\n      <td>2049.0</td>\n      <td>25.540</td>\n      <td>2.5955</td>\n      <td>-</td>\n      <td>-</td>\n      <td>1.6380</td>\n      <td>5.5670</td>\n      <td>1.8415</td>\n      <td>-</td>\n    </tr>\n    <tr>\n      <th>3</th>\n      <td>19930108</td>\n      <td>25.423</td>\n      <td>125.42</td>\n      <td>1.5314</td>\n      <td>7.7430</td>\n      <td>791.9</td>\n      <td>1.2826</td>\n      <td>1.6620</td>\n      <td>7.7450</td>\n      <td>0.6727</td>\n      <td>2049.0</td>\n      <td>25.550</td>\n      <td>2.5970</td>\n      <td>-</td>\n      <td>-</td>\n      <td>1.6475</td>\n      <td>5.6050</td>\n      <td>1.8515</td>\n      <td>-</td>\n    </tr>\n    <tr>\n      <th>4</th>\n      <td>19930111</td>\n      <td>25.450</td>\n      <td>125.36</td>\n      <td>1.5516</td>\n      <td>7.7420</td>\n      <td>792.5</td>\n      <td>1.2780</td>\n      <td>1.6602</td>\n      <td>7.7150</td>\n      <td>0.6736</td>\n      <td>2050.0</td>\n      <td>25.540</td>\n      <td>2.5945</td>\n      <td>-</td>\n      <td>-</td>\n      <td>1.6340</td>\n      <td>5.5245</td>\n      <td>1.8375</td>\n      <td>-</td>\n    </tr>\n    <tr>\n      <th>...</th>\n      <td>...</td>\n      <td>...</td>\n      <td>...</td>\n      <td>...</td>\n      <td>...</td>\n      <td>...</td>\n      <td>...</td>\n      <td>...</td>\n      <td>...</td>\n      <td>...</td>\n      <td>...</td>\n      <td>...</td>\n      <td>...</td>\n      <td>...</td>\n      <td>...</td>\n      <td>...</td>\n      <td>...</td>\n      <td>...</td>\n      <td>...</td>\n    </tr>\n    <tr>\n      <th>6859</th>\n      <td>20200727</td>\n      <td>29.507</td>\n      <td>105.56</td>\n      <td>1.2829</td>\n      <td>7.7516</td>\n      <td>1196.1</td>\n      <td>1.3385</td>\n      <td>1.3809</td>\n      <td>7.0010</td>\n      <td>0.7130</td>\n      <td>14530.0</td>\n      <td>31.590</td>\n      <td>4.2525</td>\n      <td>49.200</td>\n      <td>1.1696</td>\n      <td>-</td>\n      <td>-</td>\n      <td>-</td>\n      <td>23181.5</td>\n    </tr>\n    <tr>\n      <th>6860</th>\n      <td>20200728</td>\n      <td>29.502</td>\n      <td>105.62</td>\n      <td>1.2850</td>\n      <td>7.7505</td>\n      <td>1196.9</td>\n      <td>1.3386</td>\n      <td>1.3809</td>\n      <td>7.0072</td>\n      <td>0.7127</td>\n      <td>14535.0</td>\n      <td>31.565</td>\n      <td>4.2545</td>\n      <td>49.220</td>\n      <td>1.1711</td>\n      <td>-</td>\n      <td>-</td>\n      <td>-</td>\n      <td>23200.0</td>\n    </tr>\n    <tr>\n      <th>6861</th>\n      <td>20200729</td>\n      <td>29.501</td>\n      <td>104.82</td>\n      <td>1.2966</td>\n      <td>7.7502</td>\n      <td>1193.1</td>\n      <td>1.3347</td>\n      <td>1.3750</td>\n      <td>6.9997</td>\n      <td>0.7186</td>\n      <td>14535.0</td>\n      <td>31.450</td>\n      <td>4.2460</td>\n      <td>49.090</td>\n      <td>1.1759</td>\n      <td>-</td>\n      <td>-</td>\n      <td>-</td>\n      <td>23180.0</td>\n    </tr>\n    <tr>\n      <th>6862</th>\n      <td>20200730</td>\n      <td>29.521</td>\n      <td>105.07</td>\n      <td>1.2986</td>\n      <td>7.7501</td>\n      <td>1194.4</td>\n      <td>1.3395</td>\n      <td>1.3760</td>\n      <td>7.0064</td>\n      <td>0.7149</td>\n      <td>14600.0</td>\n      <td>31.400</td>\n      <td>4.2460</td>\n      <td>49.135</td>\n      <td>1.1758</td>\n      <td>-</td>\n      <td>-</td>\n      <td>-</td>\n      <td>23177.5</td>\n    </tr>\n    <tr>\n      <th>6863</th>\n      <td>20200731</td>\n      <td>29.502</td>\n      <td>104.44</td>\n      <td>1.3137</td>\n      <td>7.7502</td>\n      <td>1191.3</td>\n      <td>1.3407</td>\n      <td>1.3706</td>\n      <td>6.9794</td>\n      <td>0.7199</td>\n      <td>14600.0</td>\n      <td>31.205</td>\n      <td>4.2395</td>\n      <td>49.060</td>\n      <td>1.1876</td>\n      <td>-</td>\n      <td>-</td>\n      <td>-</td>\n      <td>23180.0</td>\n    </tr>\n  </tbody>\n</table>\n<p>6864 rows × 19 columns</p>\n</div>"
     },
     "metadata": {},
     "execution_count": 9
    }
   ],
   "source": [
    "test_data['中央銀行統計資料庫_我國與主要貿易對手通貨對美元之匯率_日']"
   ]
  },
  {
   "cell_type": "code",
   "execution_count": null,
   "metadata": {},
   "outputs": [],
   "source": []
  }
 ]
}